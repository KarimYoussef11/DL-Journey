{
 "cells": [
  {
   "cell_type": "code",
   "execution_count": 1,
   "id": "03db45e7",
   "metadata": {},
   "outputs": [],
   "source": [
    "# Import necessary libraries such as torch, numpy, pandas, matplotlib...etc\n",
    "import torch"
   ]
  },
  {
   "cell_type": "code",
   "execution_count": 2,
   "id": "7d6c63a3",
   "metadata": {},
   "outputs": [],
   "source": [
    "import torchvision"
   ]
  },
  {
   "cell_type": "code",
   "execution_count": 3,
   "id": "b271f69b",
   "metadata": {},
   "outputs": [],
   "source": [
    "import torch.nn as nn"
   ]
  },
  {
   "cell_type": "code",
   "execution_count": 4,
   "id": "bd456361",
   "metadata": {},
   "outputs": [],
   "source": [
    "import torch.nn.functional as F"
   ]
  },
  {
   "cell_type": "code",
   "execution_count": 5,
   "id": "d44e2979",
   "metadata": {},
   "outputs": [],
   "source": [
    "from torch.autograd import Variable"
   ]
  },
  {
   "cell_type": "code",
   "execution_count": 6,
   "id": "2be21159",
   "metadata": {},
   "outputs": [],
   "source": [
    "import numpy as np"
   ]
  },
  {
   "cell_type": "code",
   "execution_count": 7,
   "id": "97868034",
   "metadata": {},
   "outputs": [],
   "source": [
    "import pandas as pd"
   ]
  },
  {
   "cell_type": "code",
   "execution_count": 8,
   "id": "a2bf58b0",
   "metadata": {},
   "outputs": [],
   "source": [
    "import matplotlib.pyplot as plt"
   ]
  },
  {
   "cell_type": "code",
   "execution_count": 9,
   "id": "110cfbde",
   "metadata": {},
   "outputs": [],
   "source": [
    "import re"
   ]
  },
  {
   "cell_type": "code",
   "execution_count": 10,
   "id": "b8613179",
   "metadata": {},
   "outputs": [],
   "source": [
    "import os"
   ]
  },
  {
   "cell_type": "code",
   "execution_count": 11,
   "id": "b19403f4",
   "metadata": {},
   "outputs": [],
   "source": [
    "import nltk"
   ]
  },
  {
   "cell_type": "code",
   "execution_count": 12,
   "id": "2bb9d229",
   "metadata": {},
   "outputs": [],
   "source": [
    "from nltk.tokenize import word_tokenize"
   ]
  },
  {
   "cell_type": "code",
   "execution_count": 13,
   "id": "7d90cbeb",
   "metadata": {},
   "outputs": [],
   "source": [
    "from nltk import PorterStemmer"
   ]
  },
  {
   "cell_type": "code",
   "execution_count": 14,
   "id": "3184280d",
   "metadata": {},
   "outputs": [],
   "source": [
    "from nltk import WordNetLemmatizer"
   ]
  },
  {
   "cell_type": "code",
   "execution_count": 15,
   "id": "bfe11b9f",
   "metadata": {},
   "outputs": [],
   "source": [
    "from nltk.corpus import stopwords"
   ]
  },
  {
   "cell_type": "code",
   "execution_count": 16,
   "id": "73f1cce8",
   "metadata": {},
   "outputs": [],
   "source": [
    "from sklearn.feature_extraction.text import CountVectorizer"
   ]
  },
  {
   "cell_type": "code",
   "execution_count": 17,
   "id": "f525c3f6",
   "metadata": {},
   "outputs": [],
   "source": [
    "from sklearn.model_selection import train_test_split"
   ]
  },
  {
   "cell_type": "code",
   "execution_count": 18,
   "id": "0d13624d",
   "metadata": {},
   "outputs": [],
   "source": [
    "# Read the data from the csv file\n",
    "data = pd.read_csv('C:/Users/karim/Desktop/Spam_Classifier/spam_or_not_spam.csv')"
   ]
  },
  {
   "cell_type": "code",
   "execution_count": 19,
   "id": "413ca863",
   "metadata": {},
   "outputs": [
    {
     "data": {
      "text/html": [
       "<div>\n",
       "<style scoped>\n",
       "    .dataframe tbody tr th:only-of-type {\n",
       "        vertical-align: middle;\n",
       "    }\n",
       "\n",
       "    .dataframe tbody tr th {\n",
       "        vertical-align: top;\n",
       "    }\n",
       "\n",
       "    .dataframe thead th {\n",
       "        text-align: right;\n",
       "    }\n",
       "</style>\n",
       "<table border=\"1\" class=\"dataframe\">\n",
       "  <thead>\n",
       "    <tr style=\"text-align: right;\">\n",
       "      <th></th>\n",
       "      <th>email</th>\n",
       "      <th>label</th>\n",
       "    </tr>\n",
       "  </thead>\n",
       "  <tbody>\n",
       "    <tr>\n",
       "      <th>0</th>\n",
       "      <td>date wed NUMBER aug NUMBER NUMBER NUMBER NUMB...</td>\n",
       "      <td>1</td>\n",
       "    </tr>\n",
       "    <tr>\n",
       "      <th>1</th>\n",
       "      <td>martin a posted tassos papadopoulos the greek ...</td>\n",
       "      <td>1</td>\n",
       "    </tr>\n",
       "    <tr>\n",
       "      <th>2</th>\n",
       "      <td>man threatens explosion in moscow thursday aug...</td>\n",
       "      <td>1</td>\n",
       "    </tr>\n",
       "    <tr>\n",
       "      <th>3</th>\n",
       "      <td>klez the virus that won t die already the most...</td>\n",
       "      <td>1</td>\n",
       "    </tr>\n",
       "    <tr>\n",
       "      <th>4</th>\n",
       "      <td>in adding cream to spaghetti carbonara which ...</td>\n",
       "      <td>1</td>\n",
       "    </tr>\n",
       "  </tbody>\n",
       "</table>\n",
       "</div>"
      ],
      "text/plain": [
       "                                               email  label\n",
       "0   date wed NUMBER aug NUMBER NUMBER NUMBER NUMB...      1\n",
       "1  martin a posted tassos papadopoulos the greek ...      1\n",
       "2  man threatens explosion in moscow thursday aug...      1\n",
       "3  klez the virus that won t die already the most...      1\n",
       "4   in adding cream to spaghetti carbonara which ...      1"
      ]
     },
     "execution_count": 19,
     "metadata": {},
     "output_type": "execute_result"
    }
   ],
   "source": [
    "# Remove empty entries\n",
    "data.dropna(inplace=True)\n",
    "# Switch labels to make spam have 0 label and not spam have 1 label using lambda function\n",
    "change_labels = lambda x: 1 if x==0  else 0\n",
    "data['label'] = data['label'].apply(change_labels)\n",
    "# Display the first 5 elements from the data\n",
    "data.head()"
   ]
  },
  {
   "cell_type": "code",
   "execution_count": 20,
   "id": "822f41ce",
   "metadata": {},
   "outputs": [],
   "source": [
    "# The following section is for sum NLP necassary preparations for the classifier\n",
    "# Lambda function to remove non alphabets from the data\n",
    "remove_non_alphabets = lambda x: re.sub(r'[^a-zA-Z]',' ',x)\n",
    "# Tokenize the emails\n",
    "tokenize = lambda x: word_tokenize(x)\n",
    "# porter Stemmer the words\n",
    "ps = PorterStemmer()\n",
    "stem = lambda w: [ ps.stem(x) for x in w ]\n",
    "lemmatizer = WordNetLemmatizer()\n",
    "leammtizer = lambda x: [ lemmatizer.lemmatize(word) for word in x ]"
   ]
  },
  {
   "cell_type": "code",
   "execution_count": 21,
   "id": "8b76cdbc",
   "metadata": {},
   "outputs": [
    {
     "name": "stdout",
     "output_type": "stream",
     "text": [
      "Processing : [=====] : Completed"
     ]
    },
    {
     "data": {
      "text/html": [
       "<div>\n",
       "<style scoped>\n",
       "    .dataframe tbody tr th:only-of-type {\n",
       "        vertical-align: middle;\n",
       "    }\n",
       "\n",
       "    .dataframe tbody tr th {\n",
       "        vertical-align: top;\n",
       "    }\n",
       "\n",
       "    .dataframe thead th {\n",
       "        text-align: right;\n",
       "    }\n",
       "</style>\n",
       "<table border=\"1\" class=\"dataframe\">\n",
       "  <thead>\n",
       "    <tr style=\"text-align: right;\">\n",
       "      <th></th>\n",
       "      <th>email</th>\n",
       "      <th>label</th>\n",
       "    </tr>\n",
       "  </thead>\n",
       "  <tbody>\n",
       "    <tr>\n",
       "      <th>0</th>\n",
       "      <td>date wed number aug number number number numbe...</td>\n",
       "      <td>1</td>\n",
       "    </tr>\n",
       "    <tr>\n",
       "      <th>1</th>\n",
       "      <td>martin a post tasso papadopoulo the greek scul...</td>\n",
       "      <td>1</td>\n",
       "    </tr>\n",
       "    <tr>\n",
       "      <th>2</th>\n",
       "      <td>man threaten explos in moscow thursday august ...</td>\n",
       "      <td>1</td>\n",
       "    </tr>\n",
       "    <tr>\n",
       "      <th>3</th>\n",
       "      <td>klez the viru that won t die alreadi the most ...</td>\n",
       "      <td>1</td>\n",
       "    </tr>\n",
       "    <tr>\n",
       "      <th>4</th>\n",
       "      <td>in ad cream to spaghetti carbonara which ha th...</td>\n",
       "      <td>1</td>\n",
       "    </tr>\n",
       "  </tbody>\n",
       "</table>\n",
       "</div>"
      ],
      "text/plain": [
       "                                               email  label\n",
       "0  date wed number aug number number number numbe...      1\n",
       "1  martin a post tasso papadopoulo the greek scul...      1\n",
       "2  man threaten explos in moscow thursday august ...      1\n",
       "3  klez the viru that won t die alreadi the most ...      1\n",
       "4  in ad cream to spaghetti carbonara which ha th...      1"
      ]
     },
     "execution_count": 21,
     "metadata": {},
     "output_type": "execute_result"
    }
   ],
   "source": [
    "#The following section applies the aforementioned preparations\n",
    "print('Processing : [=', end='')\n",
    "data['email'] = data['email'].apply(remove_non_alphabets)\n",
    "print('=', end='')\n",
    "data['email'] = data['email'].apply(tokenize) \n",
    "print('=', end='')\n",
    "data['email'] = data['email'].apply(stem)\n",
    "print('=', end='')\n",
    "data['email'] = data['email'].apply(leammtizer)\n",
    "print('=', end='')\n",
    "data['email'] = data['email'].apply(lambda x: ' '.join(x))\n",
    "print('] : Completed', end='')\n",
    "data.head()"
   ]
  },
  {
   "cell_type": "code",
   "execution_count": 22,
   "id": "7ba0e74a",
   "metadata": {},
   "outputs": [],
   "source": [
    "# Use scikitlearn CountVectorizer to create a matrix its rows represent the \n",
    "# number of emails and columns represent each word in all emails ordered \n",
    "# Aplphabitically, and each element represent the count of its appearnce in\n",
    "# each email, then save this matrix in sparse_matrix\n",
    "max_words = 20000\n",
    "cv = CountVectorizer(max_features=max_words,stop_words='english')\n",
    "sparse_matrix = cv.fit_transform(data['email']).toarray()"
   ]
  },
  {
   "cell_type": "code",
   "execution_count": 23,
   "id": "117aa019",
   "metadata": {},
   "outputs": [],
   "source": [
    "# Use Scikit Learn train_test_split to split your data into two set\n",
    "# one for training the model, and the other for testing the classifier\n",
    "# model created, also, the y data is transformed into a numpy array \n",
    "# to accomodate the splitting\n",
    "x_train, x_test, y_train, y_test = train_test_split(sparse_matrix, np.array(data['label']))"
   ]
  },
  {
   "cell_type": "code",
   "execution_count": 24,
   "id": "dd0976de",
   "metadata": {},
   "outputs": [],
   "source": [
    "# Create a neural network class based on pytorch nn.module \n",
    "# the neural netwrok created has two hidden layers, the first layer's input is\n",
    "# equal to the number of columns/features in the input matrix x_train\n",
    "# and it outputs a 100 outputs\n",
    "# The second layer takes the 100 outputs from the first layer as input\n",
    "# and outputs 10 outputs\n",
    "# Then, the output layer takes 10 inputs and outputs two outputs one for each\n",
    "# cluster\n",
    "\n",
    "# The second forward method describes the activation function used, which is\n",
    "# a Relu function for the first and second layer \n",
    "\n",
    "class LogisticRegression(nn.Module):\n",
    "    def __init__(self):\n",
    "        super(LogisticRegression, self).__init__()\n",
    "        self.linear1 = nn.Linear(20000, 100)\n",
    "        self.linear2 = nn.Linear(100, 10)\n",
    "        self.linear3 = nn.Linear(10, 2)\n",
    "    def forward(self, x):\n",
    "        x = F.relu(self.linear1(x))\n",
    "        x = F.relu(self.linear2(x))\n",
    "        x = self.linear3(x)\n",
    "        return x\n",
    "        "
   ]
  },
  {
   "cell_type": "code",
   "execution_count": 25,
   "id": "07ab20a7",
   "metadata": {},
   "outputs": [],
   "source": [
    "model = LogisticRegression()"
   ]
  },
  {
   "cell_type": "code",
   "execution_count": 26,
   "id": "18de14e5",
   "metadata": {},
   "outputs": [],
   "source": [
    "# Selecting the objective function as a cross entropy loss function\n",
    "# and selecting the optimizer which is going to be Adam\n",
    "criterion = nn.CrossEntropyLoss()\n",
    "optimizer = torch.optim.Adam(params=model.parameters(), lr=0.01)"
   ]
  },
  {
   "cell_type": "code",
   "execution_count": 27,
   "id": "97d97564",
   "metadata": {},
   "outputs": [],
   "source": [
    "# Trnsform the numpy arrays x_test and y_test to torch.tensor to be able to use\n",
    "# them in the model for training\n",
    "x_test = torch.from_numpy(x_test).float()\n",
    "y_test = torch.from_numpy(y_test).long()"
   ]
  },
  {
   "cell_type": "code",
   "execution_count": 28,
   "id": "f00e3209",
   "metadata": {},
   "outputs": [
    {
     "name": "stdout",
     "output_type": "stream",
     "text": [
      "Accuracy : 82.93333435058594%\n"
     ]
    }
   ],
   "source": [
    "model.eval()\n",
    "with torch.no_grad():\n",
    "    y_pred = model(x_test)\n",
    "    loss = criterion(y_pred, y_test)\n",
    "    pred = torch.max(y_pred, 1)[1].eq(y_test).sum()\n",
    "    print (\"Accuracy : {}%\".format(100*pred/len(x_test)))"
   ]
  },
  {
   "cell_type": "code",
   "execution_count": 29,
   "id": "64bba644",
   "metadata": {},
   "outputs": [],
   "source": [
    "# Abysmal Accuracy "
   ]
  },
  {
   "cell_type": "code",
   "execution_count": null,
   "id": "93a98d3b",
   "metadata": {},
   "outputs": [],
   "source": []
  }
 ],
 "metadata": {
  "kernelspec": {
   "display_name": "Python 3 (ipykernel)",
   "language": "python",
   "name": "python3"
  },
  "language_info": {
   "codemirror_mode": {
    "name": "ipython",
    "version": 3
   },
   "file_extension": ".py",
   "mimetype": "text/x-python",
   "name": "python",
   "nbconvert_exporter": "python",
   "pygments_lexer": "ipython3",
   "version": "3.9.7"
  }
 },
 "nbformat": 4,
 "nbformat_minor": 5
}
